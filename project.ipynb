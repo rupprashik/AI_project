{
 "cells": [
  {
   "cell_type": "code",
   "execution_count": 40,
   "id": "b7d35df6-fdcb-496e-b0fc-80bea85d114e",
   "metadata": {},
   "outputs": [
    {
     "name": "stdout",
     "output_type": "stream",
     "text": [
      "Root Mean Squared Error: 0.0968\n",
      "Predicted performance for trial sample: 0.940725424\n"
     ]
    }
   ],
   "source": [
    "import pandas as pd\n",
    "from sklearn.model_selection import train_test_split\n",
    "from sklearn.tree import DecisionTreeRegressor\n",
    "from sklearn.metrics import mean_squared_error\n",
    "from sklearn.preprocessing import OneHotEncoder\n",
    "from sklearn.compose import ColumnTransformer\n",
    "\n",
    "# Load data from Excel file\n",
    "data = pd.read_csv('emp.xls')\n",
    "\n",
    "# Convert date to datetime object\n",
    "data['date'] = pd.to_datetime(data['date'])\n",
    "data = data.apply(pd.to_numeric, errors='ignore')\n",
    "data.dropna(inplace=True)\n",
    "\n",
    "# Extract day and month from the date\n",
    "data['date'] = pd.to_datetime(data['date'], errors='coerce')\n",
    "data.dropna(subset=['date'], inplace=True)\n",
    "data['day'] = data['date'].dt.day\n",
    "data['month'] = data['date'].dt.month\n",
    "\n",
    "\n",
    "# Define categorical and numerical columns\n",
    "categorical_columns = ['quarter', 'department', 'day', 'month']\n",
    "numerical_columns = ['targeted_productivity', 'smv', 'wip', 'over_time', 'incentive']\n",
    "\n",
    "# Preprocess categorical and numerical columns\n",
    "preprocessor = ColumnTransformer(\n",
    "    transformers=[\n",
    "        ('cat', OneHotEncoder(handle_unknown='ignore'), categorical_columns),\n",
    "        ('num', 'passthrough', numerical_columns)\n",
    "    ])\n",
    "\n",
    "# Fit and transform data\n",
    "X = preprocessor.fit_transform(data.drop('actual_productivity', axis=1))\n",
    "y = data['actual_productivity']\n",
    "\n",
    "# Split data into training and test sets\n",
    "X_train, X_test, y_train, y_test = train_test_split(X, y, test_size=0.2, random_state=42)\n",
    "\n",
    "# Initialize and train decision tree regressor\n",
    "regressor = DecisionTreeRegressor(random_state=42)\n",
    "regressor.fit(X_train, y_train)\n",
    "\n",
    "# Predict on test set\n",
    "y_pred = regressor.predict(X_test)\n",
    "\n",
    "# Calculate RMSE (Root Mean Squared Error)\n",
    "rmse = mean_squared_error(y_test, y_pred, squared=False)\n",
    "print(f\"Root Mean Squared Error: {rmse:.4f}\")\n",
    "\n",
    "# Predict performance for trial sample\n",
    "trial_sample = [[1/1/2015,\"Quarter1\",\"sweing\",\"Thursday\",8,0.8,26.16,1108,7080,98,0,0,0,59,0.940725424]]\n",
    "trial_sample_df = pd.DataFrame(trial_sample, columns=data.drop('actual_productivity', axis=1).columns)\n",
    "\n",
    "\n",
    "# Encode categorical variables\n",
    "trial_sample_encoded = preprocessor.transform(trial_sample_df)\n",
    "\n",
    "# Predict performance for trial sample\n",
    "predicted_performance = regressor.predict(trial_sample_encoded)[0]\n",
    "print(f\"Predicted performance for trial sample: {predicted_performance}\")\n",
    "\n"
   ]
  },
  {
   "cell_type": "code",
   "execution_count": null,
   "id": "75676440-c864-4043-8ad5-96cdca264ac2",
   "metadata": {},
   "outputs": [],
   "source": []
  }
 ],
 "metadata": {
  "kernelspec": {
   "display_name": "Python 3 (ipykernel)",
   "language": "python",
   "name": "python3"
  },
  "language_info": {
   "codemirror_mode": {
    "name": "ipython",
    "version": 3
   },
   "file_extension": ".py",
   "mimetype": "text/x-python",
   "name": "python",
   "nbconvert_exporter": "python",
   "pygments_lexer": "ipython3",
   "version": "3.11.7"
  }
 },
 "nbformat": 4,
 "nbformat_minor": 5
}
